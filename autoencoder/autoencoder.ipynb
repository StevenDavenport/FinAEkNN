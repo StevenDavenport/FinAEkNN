{
 "cells": [
  {
   "cell_type": "markdown",
   "metadata": {},
   "source": [
    "# Import Libraries"
   ]
  },
  {
   "cell_type": "code",
   "execution_count": 1,
   "metadata": {},
   "outputs": [
    {
     "ename": "ModuleNotFoundError",
     "evalue": "No module named 'yfinance'",
     "output_type": "error",
     "traceback": [
      "\u001b[0;31m---------------------------------------------------------------------------\u001b[0m",
      "\u001b[0;31mModuleNotFoundError\u001b[0m                       Traceback (most recent call last)",
      "\u001b[0;32m<ipython-input-1-5634e0a46f45>\u001b[0m in \u001b[0;36m<module>\u001b[0;34m\u001b[0m\n\u001b[0;32m----> 1\u001b[0;31m \u001b[0;32mimport\u001b[0m \u001b[0myfinance\u001b[0m \u001b[0;32mas\u001b[0m \u001b[0myf\u001b[0m\u001b[0;34m\u001b[0m\u001b[0;34m\u001b[0m\u001b[0m\n\u001b[0m\u001b[1;32m      2\u001b[0m \u001b[0;32mimport\u001b[0m \u001b[0mpandas\u001b[0m \u001b[0;32mas\u001b[0m \u001b[0mpd\u001b[0m\u001b[0;34m\u001b[0m\u001b[0;34m\u001b[0m\u001b[0m\n\u001b[1;32m      3\u001b[0m \u001b[0;32mimport\u001b[0m \u001b[0mnumpy\u001b[0m \u001b[0;32mas\u001b[0m \u001b[0mnp\u001b[0m\u001b[0;34m\u001b[0m\u001b[0;34m\u001b[0m\u001b[0m\n\u001b[1;32m      4\u001b[0m \u001b[0;32mfrom\u001b[0m \u001b[0msklearn\u001b[0m\u001b[0;34m.\u001b[0m\u001b[0mpreprocessing\u001b[0m \u001b[0;32mimport\u001b[0m \u001b[0mMinMaxScaler\u001b[0m\u001b[0;34m\u001b[0m\u001b[0;34m\u001b[0m\u001b[0m\n\u001b[1;32m      5\u001b[0m \u001b[0;32mimport\u001b[0m \u001b[0mtorch\u001b[0m\u001b[0;34m\u001b[0m\u001b[0;34m\u001b[0m\u001b[0m\n",
      "\u001b[0;31mModuleNotFoundError\u001b[0m: No module named 'yfinance'"
     ]
    }
   ],
   "source": [
    "import yfinance as yf\n",
    "import pandas as pd\n",
    "import numpy as np\n",
    "from sklearn.preprocessing import MinMaxScaler\n",
    "import torch\n",
    "import torch.nn as nn\n",
    "from torch.utils.data import DataLoader, TensorDataset\n",
    "from sklearn.model_selection import train_test_split\n",
    "\n",
    "from data_prep import DataPreparation"
   ]
  },
  {
   "cell_type": "markdown",
   "metadata": {},
   "source": [
    "# Fetch Data"
   ]
  },
  {
   "cell_type": "code",
   "execution_count": null,
   "metadata": {},
   "outputs": [],
   "source": [
    "data_prep = DataPreparation()\n",
    "ticker = \"AAPL\"\n",
    "start_date = \"2022-01-01\"\n",
    "end_date = \"2023-01-01\"\n",
    "\n",
    "data = data_prep.fetch_financial_data(ticker, start_date, end_date)\n",
    "processed_data = data_prep.preprocess_data(data)\n",
    "\n",
    "print(processed_data.head())"
   ]
  },
  {
   "cell_type": "markdown",
   "metadata": {},
   "source": [
    "# Prepare Sequences"
   ]
  },
  {
   "cell_type": "code",
   "execution_count": null,
   "metadata": {},
   "outputs": [],
   "source": []
  },
  {
   "cell_type": "markdown",
   "metadata": {},
   "source": [
    "# Define the Autoencoder Model"
   ]
  },
  {
   "cell_type": "code",
   "execution_count": null,
   "metadata": {},
   "outputs": [],
   "source": [
    "class Autoencoder(nn.Module):\n",
    "    def __init__(self, sequence_length=10, num_features=10):\n",
    "        super(Autoencoder, self).__init__()\n",
    "        self.encoder = nn.Sequential(\n",
    "            nn.Linear(sequence_length * num_features, 128),\n",
    "            nn.ReLU(True),\n",
    "            nn.Linear(128, 64),\n",
    "            nn.ReLU(True),\n",
    "            nn.Linear(64, 12),\n",
    "            nn.ReLU(True),\n",
    "            nn.Linear(12, 3)  # Final output of encoder is of size 3\n",
    "        )\n",
    "        self.decoder = nn.Sequential(\n",
    "            nn.Linear(3, 12),  # First layer of decoder must match the final output size of encoder\n",
    "            nn.ReLU(True),\n",
    "            nn.Linear(12, 64),\n",
    "            nn.ReLU(True),\n",
    "            nn.Linear(64, 128),\n",
    "            nn.ReLU(True),\n",
    "            nn.Linear(128, sequence_length * num_features),\n",
    "            nn.Tanh()\n",
    "        )\n",
    "\n",
    "    def forward(self, x):\n",
    "        x = self.encoder(x)\n",
    "        x = self.decoder(x)\n",
    "        return x\n",
    "\n",
    "    def encode(self, x):\n",
    "        return self.encoder(x)"
   ]
  },
  {
   "cell_type": "markdown",
   "metadata": {},
   "source": [
    "# Convert Sequences to Tensor and Create DataLoader"
   ]
  },
  {
   "cell_type": "code",
   "execution_count": null,
   "metadata": {},
   "outputs": [],
   "source": [
    "sequences = data_prep.create_sequences(processed_data)\n",
    "sequences.shape\n",
    "\n",
    "# Ensure sequences is a PyTorch tensor; this is necessary if sequences is initially a numpy array or a list\n",
    "if not isinstance(sequences, torch.Tensor):\n",
    "    sequences = torch.tensor(sequences, dtype=torch.float)\n",
    "\n",
    "# Split the sequences into training and validation sets before flattening\n",
    "sequences_train, sequences_val = train_test_split(sequences, test_size=0.2, random_state=42)\n",
    "\n",
    "# Convert sequences_train and sequences_val to PyTorch tensors if not already\n",
    "sequences_train = sequences_train.clone().detach()\n",
    "sequences_val = sequences_val.clone().detach()\n",
    "\n",
    "# Flatten the sequences\n",
    "sequences_train_flat = sequences_train.view(sequences_train.shape[0], -1)\n",
    "sequences_val_flat = sequences_val.view(sequences_val.shape[0], -1)\n",
    "\n",
    "# Create TensorDatasets for both training and validation sets using the flattened sequences\n",
    "train_dataset = TensorDataset(sequences_train_flat, sequences_train_flat)\n",
    "val_dataset = TensorDataset(sequences_val_flat, sequences_val_flat)\n",
    "\n",
    "# Create DataLoaders for both sets\n",
    "train_dataloader = DataLoader(train_dataset, batch_size=32, shuffle=True)\n",
    "val_dataloader = DataLoader(val_dataset, batch_size=32)\n",
    "\n",
    "# Output the shape of the input and target tensors in train_dataset, and the total number of items\n",
    "print(\"Shape of the input tensor in train_dataset:\", train_dataset.tensors[0].shape)\n",
    "print(\"Shape of the target tensor in train_dataset:\", train_dataset.tensors[1].shape)\n",
    "print(\"Total number of items in train_dataset:\", len(train_dataset))\n",
    "\n",
    "# Similarly, for the validation dataset if needed\n",
    "print(\"Shape of the input tensor in val_dataset:\", val_dataset.tensors[0].shape)\n",
    "print(\"Shape of the target tensor in val_dataset:\", val_dataset.tensors[1].shape)\n",
    "print(\"Total number of items in val_dataset:\", len(val_dataset))"
   ]
  },
  {
   "cell_type": "markdown",
   "metadata": {},
   "source": [
    "# Training Loop"
   ]
  },
  {
   "cell_type": "code",
   "execution_count": 2,
   "metadata": {},
   "outputs": [
    {
     "ename": "NameError",
     "evalue": "name 'Autoencoder' is not defined",
     "output_type": "error",
     "traceback": [
      "\u001b[0;31m---------------------------------------------------------------------------\u001b[0m",
      "\u001b[0;31mNameError\u001b[0m                                 Traceback (most recent call last)",
      "\u001b[0;32m<ipython-input-2-802d14a024b3>\u001b[0m in \u001b[0;36m<module>\u001b[0;34m\u001b[0m\n\u001b[1;32m      6\u001b[0m \u001b[0;34m\u001b[0m\u001b[0m\n\u001b[1;32m      7\u001b[0m \u001b[0;31m# Initialize the model\u001b[0m\u001b[0;34m\u001b[0m\u001b[0;34m\u001b[0m\u001b[0;34m\u001b[0m\u001b[0m\n\u001b[0;32m----> 8\u001b[0;31m \u001b[0mmodel\u001b[0m \u001b[0;34m=\u001b[0m \u001b[0mAutoencoder\u001b[0m\u001b[0;34m(\u001b[0m\u001b[0msequence_length\u001b[0m\u001b[0;34m=\u001b[0m\u001b[0;36m10\u001b[0m\u001b[0;34m,\u001b[0m \u001b[0mnum_features\u001b[0m\u001b[0;34m=\u001b[0m\u001b[0mdata_scaled\u001b[0m\u001b[0;34m.\u001b[0m\u001b[0mshape\u001b[0m\u001b[0;34m[\u001b[0m\u001b[0;36m1\u001b[0m\u001b[0;34m]\u001b[0m\u001b[0;34m)\u001b[0m\u001b[0;34m\u001b[0m\u001b[0;34m\u001b[0m\u001b[0m\n\u001b[0m\u001b[1;32m      9\u001b[0m \u001b[0mcriterion\u001b[0m \u001b[0;34m=\u001b[0m \u001b[0mnn\u001b[0m\u001b[0;34m.\u001b[0m\u001b[0mMSELoss\u001b[0m\u001b[0;34m(\u001b[0m\u001b[0;34m)\u001b[0m\u001b[0;34m\u001b[0m\u001b[0;34m\u001b[0m\u001b[0m\n\u001b[1;32m     10\u001b[0m \u001b[0moptimizer\u001b[0m \u001b[0;34m=\u001b[0m \u001b[0mtorch\u001b[0m\u001b[0;34m.\u001b[0m\u001b[0moptim\u001b[0m\u001b[0;34m.\u001b[0m\u001b[0mAdam\u001b[0m\u001b[0;34m(\u001b[0m\u001b[0mmodel\u001b[0m\u001b[0;34m.\u001b[0m\u001b[0mparameters\u001b[0m\u001b[0;34m(\u001b[0m\u001b[0;34m)\u001b[0m\u001b[0;34m,\u001b[0m \u001b[0mlr\u001b[0m\u001b[0;34m=\u001b[0m\u001b[0;36m0.001\u001b[0m\u001b[0;34m)\u001b[0m\u001b[0;34m\u001b[0m\u001b[0;34m\u001b[0m\u001b[0m\n",
      "\u001b[0;31mNameError\u001b[0m: name 'Autoencoder' is not defined"
     ]
    }
   ],
   "source": [
    "# Early stopping criteria\n",
    "patience = 5  # Number of epochs to wait for improvement before stopping\n",
    "min_delta = 0.001  # Minimum change to qualify as an improvement\n",
    "best_val_loss = float('inf')  # Initialize best validation loss to infinity\n",
    "counter = 0  # Initialize counter for epochs without improvement\n",
    "\n",
    "# Initialize the model\n",
    "model = Autoencoder(sequence_length=10, num_features=data_scaled.shape[1])\n",
    "criterion = nn.MSELoss()\n",
    "optimizer = torch.optim.Adam(model.parameters(), lr=0.001)\n",
    "\n",
    "# Training loop\n",
    "epochs = 50\n",
    "for epoch in range(epochs):\n",
    "    model.train()\n",
    "    train_loss = 0.0\n",
    "    for inputs, _ in train_dataloader:\n",
    "        optimizer.zero_grad()\n",
    "        outputs = model(inputs)\n",
    "        loss = criterion(outputs, inputs)\n",
    "        loss.backward()\n",
    "        optimizer.step()\n",
    "        train_loss += loss.item() * inputs.size(0)\n",
    "    train_loss /= len(train_dataloader.dataset)\n",
    "    \n",
    "    model.eval()\n",
    "    val_loss = 0.0\n",
    "    with torch.no_grad():\n",
    "        for inputs, _ in val_dataloader:\n",
    "            outputs = model(inputs)\n",
    "            loss = criterion(outputs, inputs)\n",
    "            val_loss += loss.item() * inputs.size(0)\n",
    "    val_loss /= len(val_dataloader.dataset)\n",
    "    \n",
    "    print(f'Epoch {epoch+1}, Training Loss: {train_loss:.4f}, Validation Loss: {val_loss:.4f}')\n",
    "    \n",
    "    # Early stopping logic\n",
    "    if best_val_loss - val_loss > min_delta:\n",
    "        best_val_loss = val_loss\n",
    "        counter = 0  # Reset counter if there's an improvement\n",
    "    else:\n",
    "        counter += 1  # Increment counter if no improvement\n",
    "    if counter >= patience:\n",
    "        print(\"Early stopping triggered\")\n",
    "        break  # Exit the training loop"
   ]
  },
  {
   "cell_type": "markdown",
   "metadata": {},
   "source": [
    "# Save the Model"
   ]
  },
  {
   "cell_type": "code",
   "execution_count": null,
   "metadata": {},
   "outputs": [],
   "source": [
    "# Define your model and optimizer\n",
    "model = Autoencoder(sequence_length=10, num_features=data_scaled.shape[1])\n",
    "optimizer = torch.optim.Adam(model.parameters(), lr=0.001)\n",
    "\n",
    "# Assuming your model is already trained and ready to be saved\n",
    "\n",
    "# Specify the path to save the model\n",
    "model_save_path = 'models/autoencoder_model.pth'\n",
    "optimizer_save_path = 'models/autoencoder_optimizer.pth'\n",
    "\n",
    "# Save the model state dictionary\n",
    "torch.save(model.state_dict(), model_save_path)\n",
    "\n",
    "# Optionally, save the optimizer state dictionary\n",
    "torch.save(optimizer.state_dict(), optimizer_save_path)\n",
    "\n",
    "print(f\"Model saved to {model_save_path}\")\n",
    "print(f\"Optimizer state saved to {optimizer_save_path}\")"
   ]
  },
  {
   "cell_type": "markdown",
   "metadata": {},
   "source": [
    "# Load and Test the Saved Model"
   ]
  },
  {
   "cell_type": "code",
   "execution_count": null,
   "metadata": {},
   "outputs": [],
   "source": [
    "# Initialize model and optimizer with the same architecture and parameters as when you saved them\n",
    "loaded_model = Autoencoder(sequence_length=10, num_features=data_scaled.shape[1])\n",
    "optimizer = torch.optim.Adam(model.parameters(), lr=0.001)\n",
    "\n",
    "# Load the model and optimizer state dictionaries\n",
    "loaded_model.load_state_dict(torch.load(model_save_path))\n",
    "optimizer.load_state_dict(torch.load(optimizer_save_path))\n",
    "\n",
    "print(\"Model and optimizer state loaded successfully.\")"
   ]
  },
  {
   "cell_type": "code",
   "execution_count": null,
   "metadata": {},
   "outputs": [],
   "source": [
    "loaded_model.eval()\n",
    "criterion = nn.MSELoss()  # Assuming MSE loss was used during training\n",
    "val_loss = 0.0\n",
    "\n",
    "with torch.no_grad():  # No gradients needed for evaluation\n",
    "    for inputs, _ in val_dataloader:\n",
    "        outputs = model(inputs)\n",
    "        loss = criterion(outputs, inputs)  # Compare model output vs input\n",
    "        val_loss += loss.item() * inputs.size(0)\n",
    "val_loss /= len(val_dataloader.dataset)\n",
    "\n",
    "print(f'Validation Loss: {val_loss:.4f}')"
   ]
  },
  {
   "cell_type": "code",
   "execution_count": null,
   "metadata": {},
   "outputs": [],
   "source": [
    "# Assuming the model is already loaded and in evaluation mode\n",
    "model.eval()\n",
    "\n",
    "# Create a single input example with random data\n",
    "# This example assumes num_features=10 (from the defined model) and sequence_length=10\n",
    "single_input = torch.randn(1, 10 * 10)  # Batch size of 1\n",
    "\n",
    "# Use the encode method to get the encoded representation\n",
    "encoded_features = model.encode(single_input)\n",
    "\n",
    "print(\"Encoded Features:\", single_input)\n",
    "print(\"---------------------\")\n",
    "print(\"Shape of features:\", single_input.shape)\n",
    "print(\"---------------------\")\n",
    "print(\"Encoded features:\", encoded_features)\n",
    "print(\"---------------------\")\n",
    "print(\"Shape of encoded features:\", encoded_features.shape)"
   ]
  }
 ],
 "metadata": {
  "kernelspec": {
   "display_name": "Python 3",
   "language": "python",
   "name": "python3"
  },
  "language_info": {
   "codemirror_mode": {
    "name": "ipython",
    "version": 3
   },
   "file_extension": ".py",
   "mimetype": "text/x-python",
   "name": "python",
   "nbconvert_exporter": "python",
   "pygments_lexer": "ipython3",
   "version": "3.8.10"
  }
 },
 "nbformat": 4,
 "nbformat_minor": 5
}
